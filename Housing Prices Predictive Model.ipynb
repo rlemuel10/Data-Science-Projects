{
 "cells": [
  {
   "cell_type": "markdown",
   "id": "41216c6a",
   "metadata": {},
   "source": [
    "## About the Dataset:\n",
    "Used in Belsley, Kuh & Welsch, 'Regression diagnostics …', Wiley,1980. N.B. Various transformations are used in the table on pages 244-261. Quinlan (1993). Combining Instance-Based and Model-Based Learning. In Proceedings on the Tenth International Conference of Machine Learning, 236-243, University of Massachusetts, Amherst. Morgan Kaufmann.\n",
    "\n",
    "Relevant Information: Concerns housing values in suburbs of Boston.\n",
    "Number of Instances: 509\n",
    "Number of Attributes: 13 continuous attributes (including \"class\" attribute \"MEDV\"), 1 binary-valued attribute.\n",
    "\n",
    "#### Attribute Information:\n",
    "\n",
    "1) CRIM : per capita crime rate by town.\n",
    "\n",
    "2) ZN : proportion of residential land zoned for lots over 25,000 sq.ft.\n",
    "\n",
    "3) INDUS: proportion of non-retail business acres per town.\n",
    "\n",
    "4) CHAS : Charles River dummy variable (= 1 if tract bounds river; 0 otherwise).\n",
    "\n",
    "5) NOX : nitric oxides concentration (parts per 10 million).\n",
    "\n",
    "6) RM : average number of rooms per dwelling.\n",
    "\n",
    "7) AGE : proportion of owner-occupied units built prior to 1940.\n",
    "\n",
    "8) DIS : weighted distances to five Boston employment centres.\n",
    "\n",
    "9) RAD : index of accessibility to radial highways.\n",
    "\n",
    "10) TAX : full-value property-tax rate per $10,000.\n",
    "\n",
    "11) PTRATIO : pupil-teacher ratio by town.\n",
    "\n",
    "12) B : 1000(Bk - 0.63)^2 where Bk is the proportion of blacks by town.\n",
    "\n",
    "13) LSTAT: % lower status of the population.\n",
    "\n",
    "14) MEDV : Median value of owner-occupied homes in $1000's.*"
   ]
  },
  {
   "cell_type": "markdown",
   "id": "bafd9b23",
   "metadata": {},
   "source": [
    "### Set working directory and import necessary libraries"
   ]
  },
  {
   "cell_type": "code",
   "execution_count": 1,
   "id": "0ab2d7b8",
   "metadata": {},
   "outputs": [],
   "source": [
    "import pandas as pd\n",
    "import matplotlib.pylab as plt\n",
    "import numpy as np\n",
    "import seaborn as sns"
   ]
  },
  {
   "cell_type": "code",
   "execution_count": 2,
   "id": "0239cc99",
   "metadata": {},
   "outputs": [],
   "source": [
    "#These lines make sure that our directory matches the right file path to retrieve our data\n",
    "#pwd\n",
    "#present working directory\n",
    "import os\n",
    "os.getcwd( )\n",
    "#sets correct current directory \n",
    "os.chdir('/Users/lemuelrobinson/Downloads/') "
   ]
  },
  {
   "cell_type": "markdown",
   "id": "3039d8db",
   "metadata": {},
   "source": [
    "### Read in file and check for empty rows of missing entries"
   ]
  },
  {
   "cell_type": "code",
   "execution_count": 3,
   "id": "0557bf7f",
   "metadata": {},
   "outputs": [],
   "source": [
    "df=pd.read_csv('Housing.csv')"
   ]
  },
  {
   "cell_type": "code",
   "execution_count": 53,
   "id": "f2317b94",
   "metadata": {},
   "outputs": [],
   "source": [
    "df.head(100)\n",
    "predictors=list(df.columns.values.tolist())"
   ]
  },
  {
   "cell_type": "markdown",
   "id": "d2dae86c",
   "metadata": {},
   "source": [
    "We're going to check for:\n",
    "\n",
    "1. Missing data to deal with it as needed\n",
    "2. Make sure data is in format"
   ]
  },
  {
   "cell_type": "code",
   "execution_count": 54,
   "id": "83fa4c1d",
   "metadata": {},
   "outputs": [
    {
     "data": {
      "text/html": [
       "<div>\n",
       "<style scoped>\n",
       "    .dataframe tbody tr th:only-of-type {\n",
       "        vertical-align: middle;\n",
       "    }\n",
       "\n",
       "    .dataframe tbody tr th {\n",
       "        vertical-align: top;\n",
       "    }\n",
       "\n",
       "    .dataframe thead th {\n",
       "        text-align: right;\n",
       "    }\n",
       "</style>\n",
       "<table border=\"1\" class=\"dataframe\">\n",
       "  <thead>\n",
       "    <tr style=\"text-align: right;\">\n",
       "      <th></th>\n",
       "      <th>CRIM</th>\n",
       "      <th>ZN</th>\n",
       "      <th>INDUS</th>\n",
       "      <th>CHAS</th>\n",
       "      <th>NOX</th>\n",
       "      <th>RM</th>\n",
       "      <th>AGE</th>\n",
       "      <th>DIS</th>\n",
       "      <th>RAD</th>\n",
       "      <th>TAX</th>\n",
       "      <th>PTRATIO</th>\n",
       "      <th>B</th>\n",
       "      <th>LSTAT</th>\n",
       "      <th>MEDV</th>\n",
       "    </tr>\n",
       "  </thead>\n",
       "  <tbody>\n",
       "    <tr>\n",
       "      <th>0</th>\n",
       "      <td>False</td>\n",
       "      <td>False</td>\n",
       "      <td>False</td>\n",
       "      <td>False</td>\n",
       "      <td>False</td>\n",
       "      <td>False</td>\n",
       "      <td>False</td>\n",
       "      <td>False</td>\n",
       "      <td>False</td>\n",
       "      <td>False</td>\n",
       "      <td>False</td>\n",
       "      <td>False</td>\n",
       "      <td>False</td>\n",
       "      <td>False</td>\n",
       "    </tr>\n",
       "    <tr>\n",
       "      <th>1</th>\n",
       "      <td>False</td>\n",
       "      <td>False</td>\n",
       "      <td>False</td>\n",
       "      <td>False</td>\n",
       "      <td>False</td>\n",
       "      <td>False</td>\n",
       "      <td>False</td>\n",
       "      <td>False</td>\n",
       "      <td>False</td>\n",
       "      <td>False</td>\n",
       "      <td>False</td>\n",
       "      <td>False</td>\n",
       "      <td>False</td>\n",
       "      <td>False</td>\n",
       "    </tr>\n",
       "    <tr>\n",
       "      <th>2</th>\n",
       "      <td>False</td>\n",
       "      <td>False</td>\n",
       "      <td>False</td>\n",
       "      <td>False</td>\n",
       "      <td>False</td>\n",
       "      <td>False</td>\n",
       "      <td>False</td>\n",
       "      <td>False</td>\n",
       "      <td>False</td>\n",
       "      <td>False</td>\n",
       "      <td>False</td>\n",
       "      <td>False</td>\n",
       "      <td>False</td>\n",
       "      <td>False</td>\n",
       "    </tr>\n",
       "    <tr>\n",
       "      <th>3</th>\n",
       "      <td>False</td>\n",
       "      <td>False</td>\n",
       "      <td>False</td>\n",
       "      <td>False</td>\n",
       "      <td>False</td>\n",
       "      <td>False</td>\n",
       "      <td>False</td>\n",
       "      <td>False</td>\n",
       "      <td>False</td>\n",
       "      <td>False</td>\n",
       "      <td>False</td>\n",
       "      <td>False</td>\n",
       "      <td>False</td>\n",
       "      <td>False</td>\n",
       "    </tr>\n",
       "    <tr>\n",
       "      <th>4</th>\n",
       "      <td>False</td>\n",
       "      <td>False</td>\n",
       "      <td>False</td>\n",
       "      <td>False</td>\n",
       "      <td>False</td>\n",
       "      <td>False</td>\n",
       "      <td>False</td>\n",
       "      <td>False</td>\n",
       "      <td>False</td>\n",
       "      <td>False</td>\n",
       "      <td>False</td>\n",
       "      <td>False</td>\n",
       "      <td>False</td>\n",
       "      <td>False</td>\n",
       "    </tr>\n",
       "    <tr>\n",
       "      <th>...</th>\n",
       "      <td>...</td>\n",
       "      <td>...</td>\n",
       "      <td>...</td>\n",
       "      <td>...</td>\n",
       "      <td>...</td>\n",
       "      <td>...</td>\n",
       "      <td>...</td>\n",
       "      <td>...</td>\n",
       "      <td>...</td>\n",
       "      <td>...</td>\n",
       "      <td>...</td>\n",
       "      <td>...</td>\n",
       "      <td>...</td>\n",
       "      <td>...</td>\n",
       "    </tr>\n",
       "    <tr>\n",
       "      <th>504</th>\n",
       "      <td>False</td>\n",
       "      <td>False</td>\n",
       "      <td>False</td>\n",
       "      <td>False</td>\n",
       "      <td>False</td>\n",
       "      <td>False</td>\n",
       "      <td>False</td>\n",
       "      <td>False</td>\n",
       "      <td>False</td>\n",
       "      <td>False</td>\n",
       "      <td>False</td>\n",
       "      <td>False</td>\n",
       "      <td>False</td>\n",
       "      <td>False</td>\n",
       "    </tr>\n",
       "    <tr>\n",
       "      <th>505</th>\n",
       "      <td>False</td>\n",
       "      <td>False</td>\n",
       "      <td>False</td>\n",
       "      <td>False</td>\n",
       "      <td>False</td>\n",
       "      <td>False</td>\n",
       "      <td>False</td>\n",
       "      <td>False</td>\n",
       "      <td>False</td>\n",
       "      <td>False</td>\n",
       "      <td>False</td>\n",
       "      <td>False</td>\n",
       "      <td>False</td>\n",
       "      <td>False</td>\n",
       "    </tr>\n",
       "    <tr>\n",
       "      <th>506</th>\n",
       "      <td>False</td>\n",
       "      <td>False</td>\n",
       "      <td>False</td>\n",
       "      <td>False</td>\n",
       "      <td>False</td>\n",
       "      <td>False</td>\n",
       "      <td>False</td>\n",
       "      <td>False</td>\n",
       "      <td>False</td>\n",
       "      <td>False</td>\n",
       "      <td>False</td>\n",
       "      <td>False</td>\n",
       "      <td>False</td>\n",
       "      <td>False</td>\n",
       "    </tr>\n",
       "    <tr>\n",
       "      <th>507</th>\n",
       "      <td>False</td>\n",
       "      <td>False</td>\n",
       "      <td>False</td>\n",
       "      <td>False</td>\n",
       "      <td>False</td>\n",
       "      <td>False</td>\n",
       "      <td>False</td>\n",
       "      <td>False</td>\n",
       "      <td>False</td>\n",
       "      <td>False</td>\n",
       "      <td>False</td>\n",
       "      <td>False</td>\n",
       "      <td>False</td>\n",
       "      <td>False</td>\n",
       "    </tr>\n",
       "    <tr>\n",
       "      <th>508</th>\n",
       "      <td>False</td>\n",
       "      <td>False</td>\n",
       "      <td>False</td>\n",
       "      <td>False</td>\n",
       "      <td>False</td>\n",
       "      <td>False</td>\n",
       "      <td>False</td>\n",
       "      <td>False</td>\n",
       "      <td>False</td>\n",
       "      <td>False</td>\n",
       "      <td>False</td>\n",
       "      <td>False</td>\n",
       "      <td>False</td>\n",
       "      <td>False</td>\n",
       "    </tr>\n",
       "  </tbody>\n",
       "</table>\n",
       "<p>509 rows × 14 columns</p>\n",
       "</div>"
      ],
      "text/plain": [
       "      CRIM     ZN  INDUS   CHAS    NOX     RM    AGE    DIS    RAD    TAX  \\\n",
       "0    False  False  False  False  False  False  False  False  False  False   \n",
       "1    False  False  False  False  False  False  False  False  False  False   \n",
       "2    False  False  False  False  False  False  False  False  False  False   \n",
       "3    False  False  False  False  False  False  False  False  False  False   \n",
       "4    False  False  False  False  False  False  False  False  False  False   \n",
       "..     ...    ...    ...    ...    ...    ...    ...    ...    ...    ...   \n",
       "504  False  False  False  False  False  False  False  False  False  False   \n",
       "505  False  False  False  False  False  False  False  False  False  False   \n",
       "506  False  False  False  False  False  False  False  False  False  False   \n",
       "507  False  False  False  False  False  False  False  False  False  False   \n",
       "508  False  False  False  False  False  False  False  False  False  False   \n",
       "\n",
       "     PTRATIO      B  LSTAT   MEDV  \n",
       "0      False  False  False  False  \n",
       "1      False  False  False  False  \n",
       "2      False  False  False  False  \n",
       "3      False  False  False  False  \n",
       "4      False  False  False  False  \n",
       "..       ...    ...    ...    ...  \n",
       "504    False  False  False  False  \n",
       "505    False  False  False  False  \n",
       "506    False  False  False  False  \n",
       "507    False  False  False  False  \n",
       "508    False  False  False  False  \n",
       "\n",
       "[509 rows x 14 columns]"
      ]
     },
     "execution_count": 54,
     "metadata": {},
     "output_type": "execute_result"
    }
   ],
   "source": [
    "missing_data = df.isnull()\n",
    "missing_data.head(509)"
   ]
  },
  {
   "cell_type": "code",
   "execution_count": 55,
   "id": "74de4c75",
   "metadata": {},
   "outputs": [
    {
     "name": "stdout",
     "output_type": "stream",
     "text": [
      "CRIM\n",
      "False    509\n",
      "Name: CRIM, dtype: int64\n",
      "\n",
      "ZN\n",
      "False    509\n",
      "Name: ZN, dtype: int64\n",
      "\n",
      "INDUS\n",
      "False    509\n",
      "Name: INDUS, dtype: int64\n",
      "\n",
      "CHAS\n",
      "False    509\n",
      "Name: CHAS, dtype: int64\n",
      "\n",
      "NOX\n",
      "False    509\n",
      "Name: NOX, dtype: int64\n",
      "\n",
      "RM\n",
      "False    509\n",
      "Name: RM, dtype: int64\n",
      "\n",
      "AGE\n",
      "False    509\n",
      "Name: AGE, dtype: int64\n",
      "\n",
      "DIS\n",
      "False    509\n",
      "Name: DIS, dtype: int64\n",
      "\n",
      "RAD\n",
      "False    509\n",
      "Name: RAD, dtype: int64\n",
      "\n",
      "TAX\n",
      "False    509\n",
      "Name: TAX, dtype: int64\n",
      "\n",
      "PTRATIO\n",
      "False    509\n",
      "Name: PTRATIO, dtype: int64\n",
      "\n",
      "B\n",
      "False    509\n",
      "Name: B, dtype: int64\n",
      "\n",
      "LSTAT\n",
      "False    509\n",
      "Name: LSTAT, dtype: int64\n",
      "\n",
      "MEDV\n",
      "False    509\n",
      "Name: MEDV, dtype: int64\n",
      "\n"
     ]
    }
   ],
   "source": [
    "for column in missing_data.columns.values.tolist():\n",
    "    print(column)\n",
    "    print (missing_data[column].value_counts())\n",
    "    print(\"\")   "
   ]
  },
  {
   "cell_type": "markdown",
   "id": "9117e4cd",
   "metadata": {},
   "source": [
    "**From this printout we can see that most of our columns are complete, but there is a missing variable hear and there in our dataframe, so we're going to work on that before we go any further. If most of the entries in a row are missing, we could drop select rows, however, that's not the case here. So we'll simply replace the missing values with the mean of that column--INDUS has the most missing values at 3, and MEDV, which will be our dependent variable is fully complete so we're good there.**"
   ]
  },
  {
   "cell_type": "markdown",
   "id": "e8b4023f",
   "metadata": {},
   "source": [
    "### Calculate the means of the columns with missing values"
   ]
  },
  {
   "cell_type": "code",
   "execution_count": 56,
   "id": "f2941b42",
   "metadata": {},
   "outputs": [
    {
     "name": "stdout",
     "output_type": "stream",
     "text": [
      "Average of INDUS: 11.198280632411091\n",
      "Average of NOX: 0.555216370808678\n",
      "Average of AGE: 68.57913385826775\n",
      "Average of LSTAT: 12.702314893187454\n",
      "Average of RAD: 9.610236220472443\n"
     ]
    }
   ],
   "source": [
    "indus_mean = df[\"INDUS\"].astype(\"float\").mean(axis=0)\n",
    "print(\"Average of INDUS:\", indus_mean)\n",
    "\n",
    "nox_mean = df[\"NOX\"].astype(\"float\").mean(axis=0)\n",
    "print(\"Average of NOX:\", nox_mean)\n",
    "\n",
    "age_mean = df[\"AGE\"].astype(\"float\").mean(axis=0)\n",
    "print(\"Average of AGE:\", age_mean)\n",
    "\n",
    "lstat_mean = df[\"LSTAT\"].astype(\"float\").mean(axis=0)\n",
    "print(\"Average of LSTAT:\", lstat_mean)\n",
    "\n",
    "rad_mean = df[\"RAD\"].astype(\"float\").mean(axis=0)\n",
    "print(\"Average of RAD:\", rad_mean)"
   ]
  },
  {
   "cell_type": "markdown",
   "id": "996bffff",
   "metadata": {},
   "source": [
    "### Substitute our averages into the holes for their respective columns"
   ]
  },
  {
   "cell_type": "code",
   "execution_count": 57,
   "id": "d14113dc",
   "metadata": {},
   "outputs": [],
   "source": [
    "df[\"INDUS\"].replace(np.nan, indus_mean, inplace=True)\n",
    "df[\"NOX\"].replace(np.nan, nox_mean, inplace=True)\n",
    "df[\"AGE\"].replace(np.nan, age_mean, inplace=True)\n",
    "df[\"LSTAT\"].replace(np.nan, indus_mean, inplace=True)\n",
    "df[\"RAD\"].replace(np.nan,rad_mean, inplace=True)"
   ]
  },
  {
   "cell_type": "code",
   "execution_count": 58,
   "id": "86e3d0ab",
   "metadata": {},
   "outputs": [
    {
     "name": "stdout",
     "output_type": "stream",
     "text": [
      "CRIM\n",
      "False    509\n",
      "Name: CRIM, dtype: int64\n",
      "\n",
      "ZN\n",
      "False    509\n",
      "Name: ZN, dtype: int64\n",
      "\n",
      "INDUS\n",
      "False    509\n",
      "Name: INDUS, dtype: int64\n",
      "\n",
      "CHAS\n",
      "False    509\n",
      "Name: CHAS, dtype: int64\n",
      "\n",
      "NOX\n",
      "False    509\n",
      "Name: NOX, dtype: int64\n",
      "\n",
      "RM\n",
      "False    509\n",
      "Name: RM, dtype: int64\n",
      "\n",
      "AGE\n",
      "False    509\n",
      "Name: AGE, dtype: int64\n",
      "\n",
      "DIS\n",
      "False    509\n",
      "Name: DIS, dtype: int64\n",
      "\n",
      "RAD\n",
      "False    509\n",
      "Name: RAD, dtype: int64\n",
      "\n",
      "TAX\n",
      "False    509\n",
      "Name: TAX, dtype: int64\n",
      "\n",
      "PTRATIO\n",
      "False    509\n",
      "Name: PTRATIO, dtype: int64\n",
      "\n",
      "B\n",
      "False    509\n",
      "Name: B, dtype: int64\n",
      "\n",
      "LSTAT\n",
      "False    509\n",
      "Name: LSTAT, dtype: int64\n",
      "\n",
      "MEDV\n",
      "False    509\n",
      "Name: MEDV, dtype: int64\n",
      "\n"
     ]
    }
   ],
   "source": [
    "missing_data = df.isnull()\n",
    "for column in missing_data.columns.values.tolist():\n",
    "    print(column)\n",
    "    print (missing_data[column].value_counts())\n",
    "    print(\"\")   "
   ]
  },
  {
   "cell_type": "markdown",
   "id": "7ab1e110",
   "metadata": {},
   "source": [
    "**Rerun the missing values check to make sure that all of our values are covered now. We used inplace=true for all of our replace commands, but I want to double check before continuing.**"
   ]
  },
  {
   "cell_type": "markdown",
   "id": "fc13a54f",
   "metadata": {},
   "source": [
    "### Check/Correct data format\n",
    "So our last step is to ensure that our datatypes are correct. We'll use dtypes to pull up all of them in our dataframe, and then use astype to change them as needed below. "
   ]
  },
  {
   "cell_type": "code",
   "execution_count": 59,
   "id": "bd56b4ec",
   "metadata": {},
   "outputs": [
    {
     "data": {
      "text/plain": [
       "CRIM       float64\n",
       "ZN         float64\n",
       "INDUS      float64\n",
       "CHAS         int64\n",
       "NOX        float64\n",
       "RM         float64\n",
       "AGE        float64\n",
       "DIS        float64\n",
       "RAD        float64\n",
       "TAX          int64\n",
       "PTRATIO    float64\n",
       "B          float64\n",
       "LSTAT      float64\n",
       "MEDV       float64\n",
       "dtype: object"
      ]
     },
     "execution_count": 59,
     "metadata": {},
     "output_type": "execute_result"
    }
   ],
   "source": [
    "df.dtypes"
   ]
  },
  {
   "cell_type": "markdown",
   "id": "05aa02a5",
   "metadata": {},
   "source": [
    "**It looks like our datatypes are correct, Tax is coded as an integer based on the descriptions above, and Chas is a dummy variable so we'd expect it to be an int as well. We'll use the describe method to look at how wide a spread our intended dependent variable takes on**"
   ]
  },
  {
   "cell_type": "code",
   "execution_count": 60,
   "id": "1493b0fb",
   "metadata": {},
   "outputs": [
    {
     "data": {
      "text/plain": [
       "count    509.000000\n",
       "mean      22.501572\n",
       "std        9.183497\n",
       "min        5.000000\n",
       "25%       17.000000\n",
       "50%       21.200000\n",
       "75%       25.000000\n",
       "max       50.000000\n",
       "Name: MEDV, dtype: float64"
      ]
     },
     "execution_count": 60,
     "metadata": {},
     "output_type": "execute_result"
    }
   ],
   "source": [
    "df[\"MEDV\"].describe()"
   ]
  },
  {
   "cell_type": "code",
   "execution_count": 61,
   "id": "f2800e65",
   "metadata": {},
   "outputs": [],
   "source": [
    "#create a separate dataframe for just our y values\n",
    "y_data=df['MEDV']\n",
    "#put all other variables into a separate dataframe and drop the price column from it to make our x-values dataframe\n",
    "x_data=df.drop('MEDV',axis=1)"
   ]
  },
  {
   "cell_type": "markdown",
   "id": "151fd427",
   "metadata": {},
   "source": [
    "### Linear Regression"
   ]
  },
  {
   "cell_type": "markdown",
   "id": "72e8b8fa",
   "metadata": {},
   "source": [
    "**From here we're going to split our dataset into training and testing pools-we'll do this at random in a 90-10 split**"
   ]
  },
  {
   "cell_type": "code",
   "execution_count": 62,
   "id": "7fa76147",
   "metadata": {},
   "outputs": [
    {
     "name": "stdout",
     "output_type": "stream",
     "text": [
      "number of test samples : 51\n",
      "number of training samples: 458\n"
     ]
    }
   ],
   "source": [
    "from sklearn.model_selection import train_test_split\n",
    "\n",
    "x_train, x_test, y_train, y_test = train_test_split(x_data, y_data, test_size=0.10, random_state=1)\n",
    "\n",
    "print(\"number of test samples :\", x_test.shape[0])\n",
    "print(\"number of training samples:\",x_train.shape[0])\n"
   ]
  },
  {
   "cell_type": "code",
   "execution_count": 84,
   "id": "f7c10169",
   "metadata": {},
   "outputs": [],
   "source": [
    "#we'll create a linear regression object\n",
    "from sklearn.linear_model import LinearRegression\n",
    "lre=LinearRegression()\n",
    "lre.fit(x_train,y_train)\n",
    "y_pred =lre.predict(x_test)"
   ]
  },
  {
   "cell_type": "code",
   "execution_count": 67,
   "id": "c9383fca",
   "metadata": {},
   "outputs": [],
   "source": [
    "from sklearn.metrics import mean_squared_error,r2_score"
   ]
  },
  {
   "cell_type": "code",
   "execution_count": 68,
   "id": "d83c1368",
   "metadata": {},
   "outputs": [
    {
     "name": "stdout",
     "output_type": "stream",
     "text": [
      "RMSE = 2.0634642800648635\n",
      "R^2 = 0.7958049793194765\n"
     ]
    }
   ],
   "source": [
    "MSE=mean_squared_error(y_test,y_pred, squared=False)\n",
    "RMSE=MSE**0.5\n",
    "print(\"RMSE = {}\".format(RMSE))\n",
    "R2=r2_score(y_test,y_pred)\n",
    "print(\"R^2 = {}\".format(R2))"
   ]
  },
  {
   "cell_type": "code",
   "execution_count": 69,
   "id": "52576f7e",
   "metadata": {},
   "outputs": [
    {
     "name": "stdout",
     "output_type": "stream",
     "text": [
      "{'linear regression': 0.7958049793194765}\n"
     ]
    }
   ],
   "source": [
    "R_squared_comparison={\"linear regression\":R2}\n",
    "print(R_squared_comparison)"
   ]
  },
  {
   "cell_type": "markdown",
   "id": "3589d5c4",
   "metadata": {},
   "source": [
    "**We just created a dictionary to hold our respective R-values because I'd like to do both regular multivariate regression, cross-validated and ridge regression models to see which is best for our data. We'll compare them all on the basis of R^2 scores in this dictionary as we go!**"
   ]
  },
  {
   "cell_type": "markdown",
   "id": "af239d1f",
   "metadata": {},
   "source": [
    "### Cross-validation Regression"
   ]
  },
  {
   "cell_type": "code",
   "execution_count": 99,
   "id": "71be2491",
   "metadata": {},
   "outputs": [],
   "source": [
    "from sklearn.model_selection import cross_val_score,KFold"
   ]
  },
  {
   "cell_type": "code",
   "execution_count": 100,
   "id": "1885bc32",
   "metadata": {},
   "outputs": [
    {
     "name": "stdout",
     "output_type": "stream",
     "text": [
      "[0.62950981 0.77423234]\n"
     ]
    }
   ],
   "source": [
    "kf=KFold(n_splits=5,shuffle=True, random_state=42)\n",
    "reg=LinearRegression()\n",
    "cv_results=cross_val_score(reg,x_train,y_train,cv=kf)\n",
    "R2_cross_val=np.mean(cv_results)\n",
    "confidence_interval_95=np.quantile(cv_results,[0.025,0.975])\n",
    "print(confidence_interval_95)"
   ]
  },
  {
   "cell_type": "code",
   "execution_count": 101,
   "id": "ee2f1b33",
   "metadata": {},
   "outputs": [],
   "source": [
    "R_squared_comparison.update({\"cross_validation\":R2_cross_val})"
   ]
  },
  {
   "cell_type": "markdown",
   "id": "2cf81888",
   "metadata": {},
   "source": [
    "### Ridge Regression"
   ]
  },
  {
   "cell_type": "code",
   "execution_count": 102,
   "id": "3dfd245b",
   "metadata": {},
   "outputs": [],
   "source": [
    "from sklearn.linear_model import Ridge"
   ]
  },
  {
   "cell_type": "code",
   "execution_count": 103,
   "id": "8ebc2448",
   "metadata": {},
   "outputs": [
    {
     "name": "stdout",
     "output_type": "stream",
     "text": [
      "[0.7968871249008254, 0.8001272119213492, 0.7946288817841615, 0.7599682843992298, 0.6798511678157249]\n"
     ]
    }
   ],
   "source": [
    "scores=[]\n",
    "for alpha in [0.1,1.0,10.0,100,1000]:\n",
    "    ridge=Ridge(alpha=alpha)\n",
    "    ridge.fit(x_train,y_train)\n",
    "    y_pred=ridge.predict(x_test)\n",
    "    scores.append(ridge.score(x_test,y_test))\n",
    "print(scores)"
   ]
  },
  {
   "cell_type": "markdown",
   "id": "b520c440",
   "metadata": {},
   "source": [
    "**From our scores, it looks like R^2 is maximized somewhere around 1, so we'll iterate and rerun this regression for a tighter band of alpha values to see if it improves the model at all.**"
   ]
  },
  {
   "cell_type": "code",
   "execution_count": 104,
   "id": "70bb4640",
   "metadata": {},
   "outputs": [
    {
     "name": "stdout",
     "output_type": "stream",
     "text": [
      "[0.7992226459129408, 0.8001272119213492, 0.8002421964362258, 0.8000623829000689, 0.7997627420481693, 0.7990461567675425, 0.797939741674772, 0.7968853267355819, 0.7965469405138353, 0.7955661465066366, 0.795249356887131]\n"
     ]
    }
   ],
   "source": [
    "scores=[]\n",
    "for alpha in [0.5,1.0,1.5,2,2.5,3.5,5,6.5,7,8.5,9]:\n",
    "    ridge=Ridge(alpha=alpha)\n",
    "    ridge.fit(x_train,y_train)\n",
    "    y_pred=ridge.predict(x_test)\n",
    "    scores.append(ridge.score(x_test,y_test))\n",
    "print(scores)"
   ]
  },
  {
   "cell_type": "markdown",
   "id": "400cacff",
   "metadata": {},
   "source": [
    "**it looks like the score maximizes somewhere around 1.5, so we're going to use the value for this model, and append our dictionary accordingly.**"
   ]
  },
  {
   "cell_type": "code",
   "execution_count": 96,
   "id": "f6de9ec2",
   "metadata": {},
   "outputs": [
    {
     "name": "stdout",
     "output_type": "stream",
     "text": [
      "0.8002421964362258\n"
     ]
    }
   ],
   "source": [
    "score=0\n",
    "ridge=Ridge(alpha=1.5)\n",
    "ridge.fit(x_train,y_train)\n",
    "y_pred=ridge.predict(x_test)\n",
    "score=ridge.score(x_test,y_test)\n",
    "print(score)"
   ]
  },
  {
   "cell_type": "code",
   "execution_count": 105,
   "id": "ba17a864",
   "metadata": {},
   "outputs": [
    {
     "name": "stdout",
     "output_type": "stream",
     "text": [
      "{'linear regression': 0.7958049793194765, 'cross_validation': 0.6984487396199586, 'Ridge regression': 0.8002421964362258}\n"
     ]
    }
   ],
   "source": [
    "R_squared_comparison.update({\"Ridge regression\":score})\n",
    "print(R_squared_comparison)"
   ]
  },
  {
   "cell_type": "markdown",
   "id": "1aa107a6",
   "metadata": {},
   "source": [
    "**From our comparison of these models, it looks like the Ridge regression is working for the best so far. So we'll use that one from here on out. I'm going to put the variables and their coefficients into a dictionary to make things a little easier**"
   ]
  },
  {
   "cell_type": "code",
   "execution_count": 110,
   "id": "0dabbb0e",
   "metadata": {},
   "outputs": [
    {
     "name": "stdout",
     "output_type": "stream",
     "text": [
      "{'CRIM': -0.11076650386280565, 'ZN': 0.05578983878413471, 'INDUS': -0.06720364883844449, 'CHAS': 1.9692239021706455, 'NOX': -2.520828365903125, 'RM': 3.436738009316399, 'AGE': -0.015815986574930427, 'DIS': -1.3262178916303191, 'RAD': 0.2828609097930727, 'TAX': -0.013362348086215397, 'PTRATIO': -0.7703062168408061, 'B': 0.009991096537836716, 'LSTAT': -0.543945421579492}\n"
     ]
    }
   ],
   "source": [
    "coef=ridge.fit(x_train,y_train).coef_\n",
    "coefficients=dict(zip(predictors, coef))\n",
    "print(coefficients)"
   ]
  },
  {
   "cell_type": "markdown",
   "id": "13ad3b95",
   "metadata": {},
   "source": [
    "**These are our coefficients for this model, which we can use to predict housing prices.**"
   ]
  },
  {
   "cell_type": "code",
   "execution_count": null,
   "id": "16791d0b",
   "metadata": {},
   "outputs": [],
   "source": []
  }
 ],
 "metadata": {
  "kernelspec": {
   "display_name": "Python 3 (ipykernel)",
   "language": "python",
   "name": "python3"
  },
  "language_info": {
   "codemirror_mode": {
    "name": "ipython",
    "version": 3
   },
   "file_extension": ".py",
   "mimetype": "text/x-python",
   "name": "python",
   "nbconvert_exporter": "python",
   "pygments_lexer": "ipython3",
   "version": "3.9.13"
  }
 },
 "nbformat": 4,
 "nbformat_minor": 5
}
